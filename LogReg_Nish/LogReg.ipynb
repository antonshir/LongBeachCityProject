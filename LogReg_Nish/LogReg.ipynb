{
 "cells": [
  {
   "cell_type": "code",
   "execution_count": 1,
   "metadata": {},
   "outputs": [],
   "source": [
    "%matplotlib inline\n",
    "import matplotlib.pyplot as plt\n",
    "import xlsxwriter\n",
    "import pandas as pd\n",
    "import os\n",
    "import xlrd\n",
    "import numpy as np\n",
    "from pandas import DataFrame"
   ]
  },
  {
   "cell_type": "code",
   "execution_count": 2,
   "metadata": {},
   "outputs": [
    {
     "data": {
      "text/plain": [
       "'/Users/antonshirokov'"
      ]
     },
     "execution_count": 2,
     "metadata": {},
     "output_type": "execute_result"
    }
   ],
   "source": [
    "pwd"
   ]
  },
  {
   "cell_type": "code",
   "execution_count": 3,
   "metadata": {},
   "outputs": [],
   "source": [
    "colnames = ['target']\n",
    "colnames1 = ['days_in_business', 'yelp_review_count', 'yelp_rating', 'google_rating']\n",
    "#df = pd.read_csv(\"/Users/antonshirokov/Desktop/100_businesses/Targets.csv\", names = colnames)\n",
    "#df = pd.read_csv(\"/Users/antonshirokov/Desktop/100_businesses/Targets_5_class.csv\", names = colnames)\n",
    "df = pd.read_csv(\"/Users/antonshirokov/Desktop/100_businesses/Targets_3_class.csv\", names = colnames)\n",
    "df1 = pd.read_csv(\"/Users/antonshirokov/Desktop/100_Businesses/Features_Standardized.csv\", names = colnames1)\n",
    "#df1 = pd.read_csv(\"/Users/antonshirokov/Desktop/100_businesses/Features_Min_Max_Normalized.csv\", names = colnames1)\n",
    "c = np.array(df)\n",
    "#print(c)"
   ]
  },
  {
   "cell_type": "code",
   "execution_count": 4,
   "metadata": {},
   "outputs": [],
   "source": [
    "y = np.array(df.target.tolist())\n",
    "X = np.array(df1)"
   ]
  },
  {
   "cell_type": "code",
   "execution_count": 5,
   "metadata": {},
   "outputs": [
    {
     "name": "stdout",
     "output_type": "stream",
     "text": [
      "[0 0 0 1 0 2 2 1 1 1 2 2 2 2 2 2 1 1 0 2 1 1 2 1 0 0 2 1 2 1 1 1 2 2 2 1 1\n",
      " 1 2 1 2 1 1 2 1 2 2 2 2 0 0 0 0 2 0 1 0 2 0 0 0 1 1 1 0 1 0 1 1 0 1 2 2 1\n",
      " 0 1 2 2 2 2 2 2 2 2 0 2 0 0 0 0]\n"
     ]
    }
   ],
   "source": [
    "print(y)"
   ]
  },
  {
   "cell_type": "code",
   "execution_count": 6,
   "metadata": {},
   "outputs": [],
   "source": [
    "from sklearn.linear_model import LogisticRegression\n",
    "from sklearn.model_selection import train_test_split\n",
    "from sklearn import metrics"
   ]
  },
  {
   "cell_type": "code",
   "execution_count": 7,
   "metadata": {},
   "outputs": [
    {
     "name": "stderr",
     "output_type": "stream",
     "text": [
      "/Users/antonshirokov/anaconda3/lib/python3.7/site-packages/sklearn/linear_model/logistic.py:433: FutureWarning: Default solver will be changed to 'lbfgs' in 0.22. Specify a solver to silence this warning.\n",
      "  FutureWarning)\n",
      "/Users/antonshirokov/anaconda3/lib/python3.7/site-packages/sklearn/linear_model/logistic.py:460: FutureWarning: Default multi_class will be changed to 'auto' in 0.22. Specify the multi_class option to silence this warning.\n",
      "  \"this warning.\", FutureWarning)\n"
     ]
    },
    {
     "data": {
      "text/plain": [
       "LogisticRegression(C=1.0, class_weight=None, dual=False, fit_intercept=True,\n",
       "          intercept_scaling=1, max_iter=100, multi_class='warn',\n",
       "          n_jobs=None, penalty='l2', random_state=None, solver='warn',\n",
       "          tol=0.0001, verbose=0, warm_start=False)"
      ]
     },
     "execution_count": 7,
     "metadata": {},
     "output_type": "execute_result"
    }
   ],
   "source": [
    "X_train, X_test, y_train, y_test = train_test_split(X, y, test_size=0.2, random_state=0)\n",
    "logreg = LogisticRegression()\n",
    "logreg.fit(X_train, y_train)"
   ]
  },
  {
   "cell_type": "code",
   "execution_count": 8,
   "metadata": {},
   "outputs": [
    {
     "name": "stdout",
     "output_type": "stream",
     "text": [
      "[0 1 1 1 1 1 2 2 2 2 1 2 2 0 1 2 1 0]\n",
      "[0 2 2 1 0 1 2 2 2 0 1 2 2 1 1 1 0 0]\n",
      "[[ 2.27862627 -0.47758027  1.02111841 -2.72602921]\n",
      " [-0.65205862 -0.1880442  -0.02917481  0.33727263]\n",
      " [-0.05068611 -0.27926789  0.4959718  -0.15007085]\n",
      " [-0.65982012 -0.4299853  -0.55432142  0.12841114]\n",
      " [-0.53391135 -0.47361402  1.02111841 -0.08045035]\n",
      " [-0.11450289 -0.39825532 -0.55432142  0.7549956 ]\n",
      " [ 0.09304537  1.60469967 -0.02917481  0.40689312]\n",
      " [-0.52011312  2.24723177 -0.02917481  0.40689312]\n",
      " [ 2.24873012  1.84664077  0.4959718   0.54613411]\n",
      " [-1.79616121 -0.46964778  1.02111841  0.7549956 ]\n",
      " [ 0.11747972 -0.46964778 -1.60461465  0.54613411]\n",
      " [ 0.39286924  0.68453025  0.4959718   0.54613411]\n",
      " [-0.66585685 -0.32686286  1.02111841  0.7549956 ]\n",
      " [ 1.11900068 -0.41015406 -0.55432142 -1.12475779]\n",
      " [-0.53822329 -0.06509053 -0.55432142 -0.08045035]\n",
      " [ 0.24137626 -0.46568153  1.02111841  0.7549956 ]\n",
      " [-0.61152635 -0.46964778 -0.02917481  0.19803163]\n",
      " [-0.47871846 -0.45774903 -2.65490787 -0.77665531]]\n",
      "Accuracy of logistic regression classifier on test set: 0.61\n"
     ]
    }
   ],
   "source": [
    "y_pred = logreg.predict(X_test)\n",
    "print(y_pred)\n",
    "print(y_test)\n",
    "print(X_test)\n",
    "\n",
    "print('Accuracy of logistic regression classifier on test set: {:.2f}'.format(logreg.score(X_test, y_test)))"
   ]
  },
  {
   "cell_type": "code",
   "execution_count": null,
   "metadata": {},
   "outputs": [],
   "source": []
  }
 ],
 "metadata": {
  "kernelspec": {
   "display_name": "Python 3",
   "language": "python",
   "name": "python3"
  },
  "language_info": {
   "codemirror_mode": {
    "name": "ipython",
    "version": 3
   },
   "file_extension": ".py",
   "mimetype": "text/x-python",
   "name": "python",
   "nbconvert_exporter": "python",
   "pygments_lexer": "ipython3",
   "version": "3.7.3"
  }
 },
 "nbformat": 4,
 "nbformat_minor": 2
}
