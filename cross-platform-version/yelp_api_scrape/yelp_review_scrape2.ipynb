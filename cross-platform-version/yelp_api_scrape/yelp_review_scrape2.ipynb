{
 "cells": [
  {
   "cell_type": "code",
   "execution_count": 43,
   "metadata": {},
   "outputs": [],
   "source": [
    "import urllib.request as url\n",
    "from bs4 import BeautifulSoup\n",
    "import requests\n",
    "import csv\n",
    "import math"
   ]
  },
  {
   "cell_type": "code",
   "execution_count": 44,
   "metadata": {},
   "outputs": [],
   "source": [
    "def write_to_csv(business_id, review_date):\n",
    "    with open(r'business_review_dates.csv', 'a') as f:\n",
    "        writer = csv.writer(f)\n",
    "        writer.writerow([business_id, review_date]) "
   ]
  },
  {
   "cell_type": "code",
   "execution_count": 45,
   "metadata": {},
   "outputs": [],
   "source": [
    "def get_review_dates(row):\n",
    "    \n",
    "    url = row[5]\n",
    "    iterations = math.ceil(int(row[8]) / 21)\n",
    "    web_page_incrementor = 0\n",
    "    counter = 0\n",
    "\n",
    "    while True:\n",
    "        response = requests.get(url)\n",
    "        soup = BeautifulSoup(response.text, 'html.parser')\n",
    "\n",
    "        for s in soup.find_all('span'):\n",
    "            if '/2019' in s.text:\n",
    "                write_to_csv(row[0], s.text)\n",
    "                #print(s.text)\n",
    "\n",
    "                counter += 1\n",
    "        \n",
    "        iterations -= 1\n",
    "        \n",
    "        #print('number of iterations = ' + str(iterations))\n",
    "        \n",
    "        if counter == 0 or iterations == 0:\n",
    "            break\n",
    "            \n",
    "        counter = 0\n",
    "        web_page_incrementor += 20\n",
    "        \n",
    "        add_on_url = '&start=' + str(web_page_incrementor)\n",
    "        url = row[5] + add_on_url   "
   ]
  },
  {
   "cell_type": "code",
   "execution_count": null,
   "metadata": {},
   "outputs": [],
   "source": [
    "header = True\n",
    "with open('yelp_api_data.csv', newline='') as csvfile:\n",
    "    spamreader = csv.reader(csvfile, delimiter=',', quotechar='|')\n",
    "    for row in spamreader:\n",
    "        if not header:\n",
    "            get_review_dates(row)\n",
    "        else: \n",
    "            header = False"
   ]
  }
 ],
 "metadata": {
  "kernelspec": {
   "display_name": "Python 3",
   "language": "python",
   "name": "python3"
  },
  "language_info": {
   "codemirror_mode": {
    "name": "ipython",
    "version": 3
   },
   "file_extension": ".py",
   "mimetype": "text/x-python",
   "name": "python",
   "nbconvert_exporter": "python",
   "pygments_lexer": "ipython3",
   "version": "3.7.3"
  }
 },
 "nbformat": 4,
 "nbformat_minor": 2
}
