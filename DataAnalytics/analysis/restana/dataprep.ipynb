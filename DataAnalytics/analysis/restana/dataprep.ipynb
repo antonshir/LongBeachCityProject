{
  "cells": [
    {
      "metadata": {
        "trusted": true
      },
      "cell_type": "code",
      "source": "import pandas as pd \n\noo = pd.read_csv('./vitalitybusdata.csv')\noo.info()",
      "execution_count": 36,
      "outputs": [
        {
          "output_type": "stream",
          "text": "<class 'pandas.core.frame.DataFrame'>\nRangeIndex: 12286 entries, 0 to 12285\nData columns (total 9 columns):\nUnnamed: 0       12286 non-null int64\nDBA NAME         5616 non-null object\nFULL NAME        12086 non-null object\nLICENSE TYPE     12086 non-null object\nLICENSE#         12286 non-null object\nSITE LOCATION    12279 non-null object\nUnnamed: 0.1     12086 non-null float64\nZIP              12285 non-null float64\nisyelp           12286 non-null bool\ndtypes: bool(1), float64(2), int64(1), object(5)\nmemory usage: 780.0+ KB\n",
          "name": "stdout"
        }
      ]
    },
    {
      "metadata": {
        "trusted": true
      },
      "cell_type": "code",
      "source": "oo.columns = ['c0', 'dba', 'name', 'lictype', 'licnum', 'location', 'c1', 'zip', 'isyelp']\noo.info()",
      "execution_count": 37,
      "outputs": [
        {
          "output_type": "stream",
          "text": "<class 'pandas.core.frame.DataFrame'>\nRangeIndex: 12286 entries, 0 to 12285\nData columns (total 9 columns):\nc0          12286 non-null int64\ndba         5616 non-null object\nname        12086 non-null object\nlictype     12086 non-null object\nlicnum      12286 non-null object\nlocation    12279 non-null object\nc1          12086 non-null float64\nzip         12285 non-null float64\nisyelp      12286 non-null bool\ndtypes: bool(1), float64(2), int64(1), object(5)\nmemory usage: 780.0+ KB\n",
          "name": "stdout"
        }
      ]
    },
    {
      "metadata": {
        "trusted": true
      },
      "cell_type": "code",
      "source": "oo.drop_duplicates(subset =\"location\", \n                     keep = False, inplace = True) ",
      "execution_count": 46,
      "outputs": []
    },
    {
      "metadata": {
        "trusted": true
      },
      "cell_type": "code",
      "source": "indexNames = oo[ oo['isyelp'] == False ].index\noo.drop(indexNames , inplace=True)\n",
      "execution_count": 22,
      "outputs": []
    },
    {
      "metadata": {
        "trusted": true
      },
      "cell_type": "code",
      "source": "oo.to_csv('./busdata.csv')",
      "execution_count": 48,
      "outputs": []
    },
    {
      "metadata": {
        "trusted": true
      },
      "cell_type": "code",
      "source": "oo.name.value_counts()",
      "execution_count": 40,
      "outputs": [
        {
          "output_type": "execute_result",
          "execution_count": 40,
          "data": {
            "text/plain": "AVANATH SEAPORT LLC                       33\nNEW CINGULAR WIRELESS PCS LLC             16\nA J & RALPH G BURGBACHER                  10\nGRISHAM COMMUNITY HOUSING LMTD             9\nGGF LLC                                    8\nGARFIELD BEACH CVS LLC                     8\nPARKVIEW VILLAGE LLC                       7\nCENTURY VILLAGES AT CABRILLO               7\nTHIEN & JULIEANNE L PHAN                   6\nDECRO LONG BEACH LP                        5\nSTARBUCKS CORPORATION                      5\nJ-MAR INVESTMENTS CO                       5\nGRISHAM COMMUNITY HOUSING LP               5\nLORBEER ENTERPRISES LP                     5\nTREE 1 LLC                                 5\nOCEAN STRUCTURE INC                        5\nPROLOGIS TARGETED US LOGITICS FUND LP      5\nJMK TRUST                                  4\nWILLIAMS & LOWE                            4\nWHITE BUFFALO HOLDINGS LLC                 4\nCHAN W KANG                                4\nARDEN F AND RITA M BOYD                    4\nADRIAN W LICCIARDI                         4\nMITCHELL LAND & IMPROVEMENT CO             4\nHERITAGE BOARD AND CARE INC                4\nPROHEALTH PARTNERS A MEDICAL GROUP INC     4\nNIELSEN FAMILY TRUST                       4\nMICHELL H FUGATE                           4\nMENDOZA, KAY TRUST                         4\nDLC ENTERPRISES LLC                        3\n                                          ..\nHAAS 2011 FAMILY TRUST                     1\n5009 BELMONT ASSOCIATES                    1\nLINDA GOLDSMAN                             1\nEILEEN D. LAS PINAS                        1\nJAVIER E GARCIA                            1\nARCY GONZALES                              1\nGRAND PROPERTY GROUP LLC                   1\nJEROME T CALLEJA                           1\nALEXZANDRA JOHNSON                         1\nRODOLFO BEJARANO                           1\nSAM; IMY LIEN & NINH LIEN DUONG            1\nLBC ASSET MGMT LLC                         1\nBOUBOUFFE GRILLE INC.                      1\nJIM & PAMELA CIPRA                         1\nDORTON T SAILOR                            1\nOLIVIA CAMPOS                              1\nDLC ENTS LLC                               1\nPAULA G ROWLEY                             1\nOSAMA MOUSA                                1\nMICHAEL D & KIMBERLIE J STEPHENS           1\nFRANCIS J AND LOIS M DONAHUE               1\nJOHN LAMBROS                               1\nCHRISTIAN COOPER                           1\nEDWARD S AND GEORGE S OLSON                1\nWILLIAM B & EMILY LACINA                   1\nTHE ANDY DE YOUNG INC                      1\nASHLIN LB LLC                              1\nKIMM & KELLI GARDENER                      1\nGROUND EDUCATION                           1\nDANIEL KELLEY                              1\nName: name, Length: 8634, dtype: int64"
          },
          "metadata": {}
        }
      ]
    },
    {
      "metadata": {
        "trusted": true
      },
      "cell_type": "code",
      "source": "oo.licnum.value_counts()",
      "execution_count": 47,
      "outputs": [
        {
          "output_type": "execute_result",
          "execution_count": 47,
          "data": {
            "text/plain": "BU20724170    2\nBU20028690    2\nBU20036540    2\nBU20147170    2\nBU06082440    2\nBU21220380    2\nBU20640320    2\nBU20506750    2\nBU02009281    2\nBU21800592    2\nBU04035981    2\nBU03053700    2\nBU20562010    2\nBU20607180    2\nBU20520070    2\nBU20719190    2\nBU20528920    2\nBU02038000    2\nBU03055430    2\nBU20330720    2\nBU96020430    2\nBU20722390    2\nBU20607830    2\nBU20712070    2\nBU20411081    2\nMJ21700353    2\nBU20357460    2\nBU20343890    2\nBU20608350    2\nBU20616290    2\n             ..\nBU03016912    1\nBU21606278    1\nBU20530590    1\nBU07061261    1\nBU20113940    1\nBU03010061    1\nBU20904720    1\nBU03042660    1\nBU99049230    1\nBU21703033    1\nBU05046530    1\nBU21133920    1\nBU95039293    1\nBU21606064    1\nBU20707440    1\nBU94032693    1\nBU02087261    1\nBU21604160    1\nBU02083182    1\nBU21525836    1\nBU20603480    1\nBU21330440    1\nBU21332070    1\nBU21707172    1\nBU02091051    1\nBU04039490    1\nBU21505560    1\nBU21700631    1\nBU20927462    1\nBU03010750    1\nName: licnum, Length: 9267, dtype: int64"
          },
          "metadata": {}
        }
      ]
    },
    {
      "metadata": {
        "trusted": true
      },
      "cell_type": "code",
      "source": "oo.dba.value_counts()",
      "execution_count": 42,
      "outputs": [
        {
          "output_type": "execute_result",
          "execution_count": 42,
          "data": {
            "text/plain": "AT&T MOBILITY                                   16\nHERITAGE BOARD AND CARE                          4\nMEMORIALCARE MEDICAL GROUP                       3\nCOIN LAUNDRY                                     3\nMETRO PCS                                        3\nVERIZON WIRELESS                                 3\nDOMINO'S PIZZA                                   3\nPINE TERRACE                                     2\nAIM LIVING SERVICES                              2\nROSS AVIATION                                    2\nEVERGREEN APARTMENTS                             2\nEDWARD JONES                                     2\nORTHO MATTRESS                                   2\nOPPORTUNITIES FOR LEARNING                       2\nREMAX COLLEGE PARK REALTY                        2\nHEALTHCARE PARTNERS AFFILIATES MEDICAL GROUP     2\nTHE PIKE AT RAINBOW HARBOR                       2\nYOGURTLAND                                       2\nBASKIN ROBBINS                                   2\nL M CLEANING SERVICE                             2\nEL SOL BAKERY                                    2\nABM PARKING SERVICES                             2\nVILLAGE HOTEL                                    2\nCVS Pharmacy                                     2\nLUCILLE'S SMOKEHOUSE BAR-B-QUE                   2\nOCEAN APTS                                       2\nTILLY'S                                          2\nSUBWAY SANDWICHES                                2\nAPTM INC                                         2\nNEUROMEDICAL DIAGNOSTIC MEDICAL GROUP            2\n                                                ..\nABSOLUTRAINING                                   1\nKRONE & ASSOCIATES                               1\nK & H ASSOCIATES                                 1\nLESLI SPAULDING FITNESS INSTRUCTOR               1\nDUST-MAGNETS                                     1\nSOUTH LAND MOBILE SERVICE                        1\nMY 24 CLUB                                       1\nRECREATIONAL PARK 9 HOLE GOLF #133               1\nMUSIC THERAPY SERVICES OF LONG BEACH             1\nC RYAN INC                                       1\nPETERSEN ENERGY                                  1\nFASTSIGNS OF LONG BEACH                          1\nC & C FINE FOOD MARKET                           1\nAMIGOS MARKET & LIQUOR                           1\nMERRY'S                                          1\nSAFE REFUGE                                      1\nJIM PALATO, LMFT                                 1\nENTERPRISE RENT A CAR                            1\nORANGETHEORY FITNESS LONG BEACH MARINA           1\nSAMS ROOFING CO                                  1\nDENTIST                                          1\nNDN ARROWS                                       1\nPRECISION ENGRAVING AND SIGNS                    1\nSPECIALTY AIR TECHNOLOGIES                       1\nPATRICK CLEVELAND, L.M.F.T.                      1\nLONG BEACH TRANSIT                               1\nMICHAEL'S PIZZERIA LLC                           1\nBIXBY KNOLLS FLORIST                             1\nCLASSY NAIL - SPA                                1\nDELLAGO TECHNOLOGY                               1\nName: dba, Length: 3973, dtype: int64"
          },
          "metadata": {}
        }
      ]
    },
    {
      "metadata": {
        "trusted": true
      },
      "cell_type": "code",
      "source": "oocomp = pd.DataFrame(oo.name.value_counts())",
      "execution_count": 43,
      "outputs": []
    },
    {
      "metadata": {
        "trusted": true
      },
      "cell_type": "code",
      "source": "oocomp.to_csv('./companiesinLB.csv')",
      "execution_count": 44,
      "outputs": []
    },
    {
      "metadata": {
        "trusted": true
      },
      "cell_type": "code",
      "source": "",
      "execution_count": null,
      "outputs": []
    },
    {
      "metadata": {
        "trusted": true
      },
      "cell_type": "code",
      "source": "oocomp",
      "execution_count": 20,
      "outputs": [
        {
          "output_type": "execute_result",
          "execution_count": 20,
          "data": {
            "text/html": "<div>\n<style scoped>\n    .dataframe tbody tr th:only-of-type {\n        vertical-align: middle;\n    }\n\n    .dataframe tbody tr th {\n        vertical-align: top;\n    }\n\n    .dataframe thead th {\n        text-align: right;\n    }\n</style>\n<table border=\"1\" class=\"dataframe\">\n  <thead>\n    <tr style=\"text-align: right;\">\n      <th></th>\n      <th>name</th>\n    </tr>\n  </thead>\n  <tbody>\n    <tr>\n      <th>AVANATH SEAPORT LLC</th>\n      <td>33</td>\n    </tr>\n    <tr>\n      <th>NEW CINGULAR WIRELESS PCS LLC</th>\n      <td>16</td>\n    </tr>\n    <tr>\n      <th>A J &amp; RALPH G BURGBACHER</th>\n      <td>10</td>\n    </tr>\n    <tr>\n      <th>GRISHAM COMMUNITY HOUSING LMTD</th>\n      <td>9</td>\n    </tr>\n    <tr>\n      <th>GGF LLC</th>\n      <td>8</td>\n    </tr>\n    <tr>\n      <th>GARFIELD BEACH CVS LLC</th>\n      <td>8</td>\n    </tr>\n    <tr>\n      <th>PARKVIEW VILLAGE LLC</th>\n      <td>7</td>\n    </tr>\n    <tr>\n      <th>CENTURY VILLAGES AT CABRILLO</th>\n      <td>7</td>\n    </tr>\n    <tr>\n      <th>THIEN &amp; JULIEANNE L PHAN</th>\n      <td>6</td>\n    </tr>\n    <tr>\n      <th>DECRO LONG BEACH LP</th>\n      <td>5</td>\n    </tr>\n    <tr>\n      <th>STARBUCKS CORPORATION</th>\n      <td>5</td>\n    </tr>\n    <tr>\n      <th>J-MAR INVESTMENTS CO</th>\n      <td>5</td>\n    </tr>\n    <tr>\n      <th>GRISHAM COMMUNITY HOUSING LP</th>\n      <td>5</td>\n    </tr>\n    <tr>\n      <th>LORBEER ENTERPRISES LP</th>\n      <td>5</td>\n    </tr>\n    <tr>\n      <th>TREE 1 LLC</th>\n      <td>5</td>\n    </tr>\n    <tr>\n      <th>OCEAN STRUCTURE INC</th>\n      <td>5</td>\n    </tr>\n    <tr>\n      <th>PROLOGIS TARGETED US LOGITICS FUND LP</th>\n      <td>5</td>\n    </tr>\n    <tr>\n      <th>JMK TRUST</th>\n      <td>4</td>\n    </tr>\n    <tr>\n      <th>WILLIAMS &amp; LOWE</th>\n      <td>4</td>\n    </tr>\n    <tr>\n      <th>WHITE BUFFALO HOLDINGS LLC</th>\n      <td>4</td>\n    </tr>\n    <tr>\n      <th>CHAN W KANG</th>\n      <td>4</td>\n    </tr>\n    <tr>\n      <th>ARDEN F AND RITA M BOYD</th>\n      <td>4</td>\n    </tr>\n    <tr>\n      <th>ADRIAN W LICCIARDI</th>\n      <td>4</td>\n    </tr>\n    <tr>\n      <th>MITCHELL LAND &amp; IMPROVEMENT CO</th>\n      <td>4</td>\n    </tr>\n    <tr>\n      <th>HERITAGE BOARD AND CARE INC</th>\n      <td>4</td>\n    </tr>\n    <tr>\n      <th>PROHEALTH PARTNERS A MEDICAL GROUP INC</th>\n      <td>4</td>\n    </tr>\n    <tr>\n      <th>NIELSEN FAMILY TRUST</th>\n      <td>4</td>\n    </tr>\n    <tr>\n      <th>MICHELL H FUGATE</th>\n      <td>4</td>\n    </tr>\n    <tr>\n      <th>MENDOZA, KAY TRUST</th>\n      <td>4</td>\n    </tr>\n    <tr>\n      <th>DLC ENTERPRISES LLC</th>\n      <td>3</td>\n    </tr>\n    <tr>\n      <th>...</th>\n      <td>...</td>\n    </tr>\n    <tr>\n      <th>HAAS 2011 FAMILY TRUST</th>\n      <td>1</td>\n    </tr>\n    <tr>\n      <th>5009 BELMONT ASSOCIATES</th>\n      <td>1</td>\n    </tr>\n    <tr>\n      <th>LINDA GOLDSMAN</th>\n      <td>1</td>\n    </tr>\n    <tr>\n      <th>EILEEN D. LAS PINAS</th>\n      <td>1</td>\n    </tr>\n    <tr>\n      <th>JAVIER E GARCIA</th>\n      <td>1</td>\n    </tr>\n    <tr>\n      <th>ARCY GONZALES</th>\n      <td>1</td>\n    </tr>\n    <tr>\n      <th>GRAND PROPERTY GROUP LLC</th>\n      <td>1</td>\n    </tr>\n    <tr>\n      <th>JEROME T CALLEJA</th>\n      <td>1</td>\n    </tr>\n    <tr>\n      <th>ALEXZANDRA JOHNSON</th>\n      <td>1</td>\n    </tr>\n    <tr>\n      <th>RODOLFO BEJARANO</th>\n      <td>1</td>\n    </tr>\n    <tr>\n      <th>SAM; IMY LIEN &amp; NINH LIEN DUONG</th>\n      <td>1</td>\n    </tr>\n    <tr>\n      <th>LBC ASSET MGMT LLC</th>\n      <td>1</td>\n    </tr>\n    <tr>\n      <th>BOUBOUFFE GRILLE INC.</th>\n      <td>1</td>\n    </tr>\n    <tr>\n      <th>JIM &amp; PAMELA CIPRA</th>\n      <td>1</td>\n    </tr>\n    <tr>\n      <th>DORTON T SAILOR</th>\n      <td>1</td>\n    </tr>\n    <tr>\n      <th>OLIVIA CAMPOS</th>\n      <td>1</td>\n    </tr>\n    <tr>\n      <th>DLC ENTS LLC</th>\n      <td>1</td>\n    </tr>\n    <tr>\n      <th>PAULA G ROWLEY</th>\n      <td>1</td>\n    </tr>\n    <tr>\n      <th>OSAMA MOUSA</th>\n      <td>1</td>\n    </tr>\n    <tr>\n      <th>MICHAEL D &amp; KIMBERLIE J STEPHENS</th>\n      <td>1</td>\n    </tr>\n    <tr>\n      <th>FRANCIS J AND LOIS M DONAHUE</th>\n      <td>1</td>\n    </tr>\n    <tr>\n      <th>JOHN LAMBROS</th>\n      <td>1</td>\n    </tr>\n    <tr>\n      <th>CHRISTIAN COOPER</th>\n      <td>1</td>\n    </tr>\n    <tr>\n      <th>EDWARD S AND GEORGE S OLSON</th>\n      <td>1</td>\n    </tr>\n    <tr>\n      <th>WILLIAM B &amp; EMILY LACINA</th>\n      <td>1</td>\n    </tr>\n    <tr>\n      <th>THE ANDY DE YOUNG INC</th>\n      <td>1</td>\n    </tr>\n    <tr>\n      <th>ASHLIN LB LLC</th>\n      <td>1</td>\n    </tr>\n    <tr>\n      <th>KIMM &amp; KELLI GARDENER</th>\n      <td>1</td>\n    </tr>\n    <tr>\n      <th>GROUND EDUCATION</th>\n      <td>1</td>\n    </tr>\n    <tr>\n      <th>DANIEL KELLEY</th>\n      <td>1</td>\n    </tr>\n  </tbody>\n</table>\n<p>8634 rows × 1 columns</p>\n</div>",
            "text/plain": "                                        name\nAVANATH SEAPORT LLC                       33\nNEW CINGULAR WIRELESS PCS LLC             16\nA J & RALPH G BURGBACHER                  10\nGRISHAM COMMUNITY HOUSING LMTD             9\nGGF LLC                                    8\nGARFIELD BEACH CVS LLC                     8\nPARKVIEW VILLAGE LLC                       7\nCENTURY VILLAGES AT CABRILLO               7\nTHIEN & JULIEANNE L PHAN                   6\nDECRO LONG BEACH LP                        5\nSTARBUCKS CORPORATION                      5\nJ-MAR INVESTMENTS CO                       5\nGRISHAM COMMUNITY HOUSING LP               5\nLORBEER ENTERPRISES LP                     5\nTREE 1 LLC                                 5\nOCEAN STRUCTURE INC                        5\nPROLOGIS TARGETED US LOGITICS FUND LP      5\nJMK TRUST                                  4\nWILLIAMS & LOWE                            4\nWHITE BUFFALO HOLDINGS LLC                 4\nCHAN W KANG                                4\nARDEN F AND RITA M BOYD                    4\nADRIAN W LICCIARDI                         4\nMITCHELL LAND & IMPROVEMENT CO             4\nHERITAGE BOARD AND CARE INC                4\nPROHEALTH PARTNERS A MEDICAL GROUP INC     4\nNIELSEN FAMILY TRUST                       4\nMICHELL H FUGATE                           4\nMENDOZA, KAY TRUST                         4\nDLC ENTERPRISES LLC                        3\n...                                      ...\nHAAS 2011 FAMILY TRUST                     1\n5009 BELMONT ASSOCIATES                    1\nLINDA GOLDSMAN                             1\nEILEEN D. LAS PINAS                        1\nJAVIER E GARCIA                            1\nARCY GONZALES                              1\nGRAND PROPERTY GROUP LLC                   1\nJEROME T CALLEJA                           1\nALEXZANDRA JOHNSON                         1\nRODOLFO BEJARANO                           1\nSAM; IMY LIEN & NINH LIEN DUONG            1\nLBC ASSET MGMT LLC                         1\nBOUBOUFFE GRILLE INC.                      1\nJIM & PAMELA CIPRA                         1\nDORTON T SAILOR                            1\nOLIVIA CAMPOS                              1\nDLC ENTS LLC                               1\nPAULA G ROWLEY                             1\nOSAMA MOUSA                                1\nMICHAEL D & KIMBERLIE J STEPHENS           1\nFRANCIS J AND LOIS M DONAHUE               1\nJOHN LAMBROS                               1\nCHRISTIAN COOPER                           1\nEDWARD S AND GEORGE S OLSON                1\nWILLIAM B & EMILY LACINA                   1\nTHE ANDY DE YOUNG INC                      1\nASHLIN LB LLC                              1\nKIMM & KELLI GARDENER                      1\nGROUND EDUCATION                           1\nDANIEL KELLEY                              1\n\n[8634 rows x 1 columns]"
          },
          "metadata": {}
        }
      ]
    },
    {
      "metadata": {
        "trusted": true
      },
      "cell_type": "code",
      "source": "",
      "execution_count": null,
      "outputs": []
    }
  ],
  "metadata": {
    "kernelspec": {
      "name": "python36",
      "display_name": "Python 3.6",
      "language": "python"
    },
    "language_info": {
      "mimetype": "text/x-python",
      "nbconvert_exporter": "python",
      "name": "python",
      "pygments_lexer": "ipython3",
      "version": "3.6.6",
      "file_extension": ".py",
      "codemirror_mode": {
        "version": 3,
        "name": "ipython"
      }
    }
  },
  "nbformat": 4,
  "nbformat_minor": 2
}