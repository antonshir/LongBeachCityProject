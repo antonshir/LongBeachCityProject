{
  "cells": [
    {
      "metadata": {
        "trusted": true
      },
      "cell_type": "code",
      "source": "import pandas as pd \n\n\noo = pd.read_csv('active.csv')\noo0 = pd.read_csv('delinquent.csv')",
      "execution_count": 2,
      "outputs": []
    },
    {
      "metadata": {
        "trusted": true
      },
      "cell_type": "code",
      "source": "ooact = pd.DataFrame(oo[['LICENSE#', 'FULL NAME', 'DBA NAME', 'LICENSE TYPE', 'SITE LOCATION', 'ZIP']])\noodel = pd.DataFrame(oo0[['LICENSE#', 'FULL NAME', 'DBA NAME', 'LICENSE TYPE', 'SITE LOCATION', 'ZIP']])\nooact.info()",
      "execution_count": 3,
      "outputs": [
        {
          "output_type": "stream",
          "text": "<class 'pandas.core.frame.DataFrame'>\nRangeIndex: 10599 entries, 0 to 10598\nData columns (total 6 columns):\nLICENSE#         10599 non-null object\nFULL NAME        10599 non-null object\nDBA NAME         4686 non-null object\nLICENSE TYPE     10599 non-null object\nSITE LOCATION    10599 non-null object\nZIP              10599 non-null int64\ndtypes: int64(1), object(5)\nmemory usage: 496.9+ KB\n",
          "name": "stdout"
        }
      ]
    },
    {
      "metadata": {
        "trusted": true
      },
      "cell_type": "code",
      "source": "oodel.info()",
      "execution_count": 4,
      "outputs": [
        {
          "output_type": "stream",
          "text": "<class 'pandas.core.frame.DataFrame'>\nRangeIndex: 1487 entries, 0 to 1486\nData columns (total 6 columns):\nLICENSE#         1487 non-null object\nFULL NAME        1487 non-null object\nDBA NAME         730 non-null object\nLICENSE TYPE     1487 non-null object\nSITE LOCATION    1487 non-null object\nZIP              1487 non-null int64\ndtypes: int64(1), object(5)\nmemory usage: 69.8+ KB\n",
          "name": "stdout"
        }
      ]
    },
    {
      "metadata": {
        "trusted": true
      },
      "cell_type": "code",
      "source": "oodel['isyelp']=False\nooact['isyelp']=False",
      "execution_count": 11,
      "outputs": []
    },
    {
      "metadata": {
        "trusted": true
      },
      "cell_type": "code",
      "source": "oodel.info()",
      "execution_count": 12,
      "outputs": [
        {
          "output_type": "stream",
          "text": "<class 'pandas.core.frame.DataFrame'>\nRangeIndex: 1487 entries, 0 to 1486\nData columns (total 7 columns):\nLICENSE#         1487 non-null object\nFULL NAME        1487 non-null object\nDBA NAME         730 non-null object\nLICENSE TYPE     1487 non-null object\nSITE LOCATION    1487 non-null object\nZIP              1487 non-null int64\nisyelp           1487 non-null bool\ndtypes: bool(1), int64(1), object(5)\nmemory usage: 71.2+ KB\n",
          "name": "stdout"
        }
      ]
    },
    {
      "metadata": {
        "trusted": true
      },
      "cell_type": "code",
      "source": "ooact.to_csv(r'./actbus.csv')\noodel.to_csv(r'./delbus.csv')",
      "execution_count": 13,
      "outputs": []
    },
    {
      "metadata": {
        "trusted": true
      },
      "cell_type": "code",
      "source": "",
      "execution_count": null,
      "outputs": []
    }
  ],
  "metadata": {
    "kernelspec": {
      "name": "python36",
      "display_name": "Python 3.6",
      "language": "python"
    },
    "language_info": {
      "mimetype": "text/x-python",
      "nbconvert_exporter": "python",
      "name": "python",
      "pygments_lexer": "ipython3",
      "version": "3.6.6",
      "file_extension": ".py",
      "codemirror_mode": {
        "version": 3,
        "name": "ipython"
      }
    }
  },
  "nbformat": 4,
  "nbformat_minor": 2
}