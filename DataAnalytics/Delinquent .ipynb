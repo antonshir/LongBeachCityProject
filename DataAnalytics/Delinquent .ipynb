{
 "cells": [
  {
   "cell_type": "code",
   "execution_count": 1,
   "metadata": {},
   "outputs": [],
   "source": [
    "import pandas as pd\n",
    "import numpy as np\n",
    "import matplotlib as plt"
   ]
  },
  {
   "cell_type": "code",
   "execution_count": 2,
   "metadata": {},
   "outputs": [],
   "source": [
    "df = pd.read_csv(\"/Users/David/Desktop/CECS491/delinquent_businesses.csv\")"
   ]
  },
  {
   "cell_type": "markdown",
   "metadata": {},
   "source": [
    "# All columns"
   ]
  },
  {
   "cell_type": "code",
   "execution_count": 3,
   "metadata": {},
   "outputs": [
    {
     "name": "stdout",
     "output_type": "stream",
     "text": [
      "Index(['LICENSE#', 'FULL NAME', 'DBA NAME', 'LICENSE TYPE', 'DESCRIPTION',\n",
      "       'STATUS', 'PROCESSED DATE', 'START DATE', 'EXPIRE DATE',\n",
      "       'INACTIVE DATE', 'INSPECTOR NAME', 'MILESTONE DATE', 'MILESTONE',\n",
      "       'PROPERTY TYPE', 'SITE LOCATION', 'ZIP', 'COMPANY TYPE', '#EMPLOYEES',\n",
      "       '#VEHICLES', '#STANDS', '#SEATS', '#UNITS', 'TYPE OF BUSINESS',\n",
      "       'COUNCIL DISTRICT', 'BID AREA', 'APPLICATION DESCRIPTION',\n",
      "       'STATE LICENSE#', 'HOME BASED', 'OUTSIDE CITY', 'CLASS DESCRIPTION',\n",
      "       'BUSN LIC EXEMPT', 'Shape', 'FPEXEMPT', 'FPCITYFAC', 'CETOTALUNITS',\n",
      "       'CENSUSTRACT', 'HEDISCOUNT', 'HEPROGRAMELEMENT', 'HEPROGRAMELEMENTDESC',\n",
      "       'HEWATERAMOUNT', 'HEHAZMATAMOUNT', 'HEEPANUMBER', 'HEEVENTSTART',\n",
      "       'HEONETIMEPERMIT', 'HEEVENTEND', 'HEPERMITTYPE', 'HEPERMITTYPEDESC',\n",
      "       'HEEVENTNAME', 'HEEXEMPT', 'COMMENTS', 'OBJECTID'],\n",
      "      dtype='object')\n"
     ]
    }
   ],
   "source": [
    "print(df.columns)"
   ]
  },
  {
   "cell_type": "markdown",
   "metadata": {},
   "source": [
    "# Group by zip code"
   ]
  },
  {
   "cell_type": "code",
   "execution_count": 4,
   "metadata": {},
   "outputs": [],
   "source": [
    "group_zip = df.groupby(by=\"ZIP\")"
   ]
  },
  {
   "cell_type": "markdown",
   "metadata": {},
   "source": [
    "# Show #employees by zip code groups"
   ]
  },
  {
   "cell_type": "code",
   "execution_count": 5,
   "metadata": {
    "scrolled": false
   },
   "outputs": [
    {
     "name": "stdout",
     "output_type": "stream",
     "text": [
      "       count      mean       std  min   25%  50%  75%   max\n",
      "ZIP                                                        \n",
      "90802  218.0  1.839450  6.256197  0.0  0.00  0.0  2.0  85.0\n",
      "90803  106.0  0.981132  2.676106  0.0  0.00  0.0  1.0  22.0\n",
      "90804  149.0  0.919463  3.352121  0.0  0.00  0.0  1.0  33.0\n",
      "90805   50.0  0.500000  0.814411  0.0  0.00  0.0  1.0   3.0\n",
      "90806  146.0  1.212329  5.606903  0.0  0.00  0.0  1.0  51.0\n",
      "90807  118.0  0.966102  1.648269  0.0  0.00  0.0  1.0  10.0\n",
      "90808  114.0  0.982456  2.613723  0.0  0.00  0.0  1.0  25.0\n",
      "90810   33.0  1.000000  2.947457  0.0  0.00  0.0  0.0  15.0\n",
      "90813  200.0  0.755000  2.271735  0.0  0.00  0.0  0.0  20.0\n",
      "90814   67.0  0.626866  0.966653  0.0  0.00  0.0  1.0   4.0\n",
      "90815  112.0  1.830357  4.867410  0.0  0.00  0.0  1.0  35.0\n",
      "90831    4.0  1.750000  0.500000  1.0  1.75  2.0  2.0   2.0\n"
     ]
    }
   ],
   "source": [
    "group_zip_emp = group_zip[\"#EMPLOYEES\"]\n",
    "print(group_zip_emp.describe())"
   ]
  },
  {
   "cell_type": "markdown",
   "metadata": {},
   "source": [
    "## Show company types by zip code groups"
   ]
  },
  {
   "cell_type": "code",
   "execution_count": 6,
   "metadata": {},
   "outputs": [
    {
     "name": "stdout",
     "output_type": "stream",
     "text": [
      "      count unique   top freq\n",
      "ZIP                          \n",
      "90802   218      6  SOLE  102\n",
      "90803   105      5  SOLE   48\n",
      "90804   149      5  SOLE   80\n",
      "90805    49      5  SOLE   25\n",
      "90806   146      5  SOLE   77\n",
      "90807   116      6  SOLE   48\n",
      "90808   112      5  SOLE   69\n",
      "90810    33      5  SOLE   12\n",
      "90813   200      6  SOLE   88\n",
      "90814    67      6  SOLE   32\n",
      "90815   112      5  SOLE   66\n",
      "90831     4      3   LLC    2\n"
     ]
    }
   ],
   "source": [
    "group_zip_company_type = group_zip[\"COMPANY TYPE\"]\n",
    "print(group_zip_company_type.describe())"
   ]
  },
  {
   "cell_type": "markdown",
   "metadata": {},
   "source": [
    "# Show property types by zip code groups"
   ]
  },
  {
   "cell_type": "code",
   "execution_count": 7,
   "metadata": {},
   "outputs": [
    {
     "name": "stdout",
     "output_type": "stream",
     "text": [
      "      count unique  top freq\n",
      "ZIP                         \n",
      "90802   218      2  COM  172\n",
      "90803   106      2  COM   80\n",
      "90804   149      2  COM  110\n",
      "90805    50      2  COM   35\n",
      "90806   146      2  COM  124\n",
      "90807   118      2  COM   85\n",
      "90808   114      2  RES   73\n",
      "90810    33      2  COM   27\n",
      "90813   200      2  COM  184\n",
      "90814    67      2  COM   44\n",
      "90815   112      2  RES   64\n",
      "90831     4      1  COM    4\n"
     ]
    }
   ],
   "source": [
    "group_zip_property_type = group_zip[\"PROPERTY TYPE\"]\n",
    "print(group_zip_property_type.describe())"
   ]
  },
  {
   "cell_type": "markdown",
   "metadata": {},
   "source": [
    "# Show type of business by zip code groups"
   ]
  },
  {
   "cell_type": "code",
   "execution_count": 8,
   "metadata": {},
   "outputs": [
    {
     "name": "stdout",
     "output_type": "stream",
     "text": [
      "      count unique                                  top freq\n",
      "ZIP                                                         \n",
      "90802   218     54                      Apartment House   42\n",
      "90803   106     31                      Apartment House   24\n",
      "90804   149     40                      Apartment House   50\n",
      "90805    50     20                      Apartment House   11\n",
      "90806   146     39                      Apartment House   47\n",
      "90807   118     42  Commercial/Industrial Space  Rental   20\n",
      "90808   114     50                      Business Office   13\n",
      "90810    33     12  Commercial/Industrial Space  Rental   12\n",
      "90813   200     42                      Apartment House   66\n",
      "90814    67     27                      Apartment House   14\n",
      "90815   112     45                      Business Office   14\n",
      "90831     4      4                           Consulting    1\n"
     ]
    }
   ],
   "source": [
    "group_zip_type_of_business = group_zip[\"TYPE OF BUSINESS\"]\n",
    "print(group_zip_type_of_business.describe())"
   ]
  }
 ],
 "metadata": {
  "kernelspec": {
   "display_name": "Python 3",
   "language": "python",
   "name": "python3"
  },
  "language_info": {
   "codemirror_mode": {
    "name": "ipython",
    "version": 3
   },
   "file_extension": ".py",
   "mimetype": "text/x-python",
   "name": "python",
   "nbconvert_exporter": "python",
   "pygments_lexer": "ipython3",
   "version": "3.7.1"
  }
 },
 "nbformat": 4,
 "nbformat_minor": 2
}
