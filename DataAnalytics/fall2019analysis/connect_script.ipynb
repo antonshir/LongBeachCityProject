{
 "cells": [
  {
   "cell_type": "code",
   "execution_count": 2,
   "metadata": {},
   "outputs": [
    {
     "name": "stdout",
     "output_type": "stream",
     "text": [
      "Requirement already satisfied: psycopg2-binary in /opt/conda/lib/python3.7/site-packages (2.7.7)\n"
     ]
    }
   ],
   "source": [
    "%%bash\n",
    "pip install psycopg2-binary\n",
    "#Low level package to easily r/w data from/to postgres"
   ]
  },
  {
   "cell_type": "code",
   "execution_count": 3,
   "metadata": {},
   "outputs": [],
   "source": [
    "import numpy as np\n",
    "import pandas as pd\n",
    "from sqlalchemy import create_engine\n",
    "#Collections screen to provide for postgress"
   ]
  },
  {
   "cell_type": "code",
   "execution_count": 8,
   "metadata": {},
   "outputs": [],
   "source": [
    "data = pd.read_csv('DelinquentBusinessLicenses.csv', usecols=[1, 6, 7, 8, 9, 11, 12, 13, 14, 16, 17, 18, 19, 20, 21, 23, 24, 25])"
   ]
  },
  {
   "cell_type": "code",
   "execution_count": 13,
   "metadata": {},
   "outputs": [
    {
     "data": {
      "text/plain": [
       "Index(['FULL NAME', 'PROCESSED DATE', 'START DATE', 'EXPIRE DATE',\n",
       "       'INACTIVE DATE', 'MILESTONE DATE', 'MILESTONE', 'PROPERTY TYPE',\n",
       "       'SITE LOCATION', 'COMPANY TYPE', '#EMPLOYEES', '#VEHICLES', '#STANDS',\n",
       "       '#SEATS', '#UNITS', 'COUNCIL DISTRICT', 'BID AREA',\n",
       "       'APPLICATION DESCRIPTION'],\n",
       "      dtype='object')"
      ]
     },
     "execution_count": 13,
     "metadata": {},
     "output_type": "execute_result"
    }
   ],
   "source": [
    "data.columns"
   ]
  },
  {
   "cell_type": "code",
   "execution_count": 15,
   "metadata": {},
   "outputs": [],
   "source": [
    "con = create_engine(\"postgresql://postgres@postgres\")\n",
    "#Init conn with post node\n",
    "#In General Syntax: <dialect>://<user>:<password>@<host>:<port>"
   ]
  },
  {
   "cell_type": "code",
   "execution_count": null,
   "metadata": {},
   "outputs": [],
   "source": []
  }
 ],
 "metadata": {
  "kernelspec": {
   "display_name": "Python 3",
   "language": "python",
   "name": "python3"
  },
  "language_info": {
   "codemirror_mode": {
    "name": "ipython",
    "version": 3
   },
   "file_extension": ".py",
   "mimetype": "text/x-python",
   "name": "python",
   "nbconvert_exporter": "python",
   "pygments_lexer": "ipython3",
   "version": "3.7.1"
  }
 },
 "nbformat": 4,
 "nbformat_minor": 2
}
